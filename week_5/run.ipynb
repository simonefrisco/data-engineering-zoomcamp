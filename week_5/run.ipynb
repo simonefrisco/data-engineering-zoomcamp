{
 "cells": [
  {
   "cell_type": "code",
   "execution_count": 1,
   "id": "83c47b90-0d06-4922-8008-4905624f3853",
   "metadata": {},
   "outputs": [],
   "source": [
    "import pyspark\n",
    "from pyspark.sql import SparkSession"
   ]
  },
  {
   "cell_type": "code",
   "execution_count": 2,
   "id": "8f7dfde5-4d53-4700-b1d9-46e80f011192",
   "metadata": {},
   "outputs": [],
   "source": [
    "spark = SparkSession.builder \\\n",
    "            .master(\"local[*]\") \\\n",
    "            .appName(\"test\") \\\n",
    "            .getOrCreate()"
   ]
  },
  {
   "cell_type": "markdown",
   "id": "cb907c8a-5e51-4714-b53a-a413ce153987",
   "metadata": {},
   "source": [
    "# Partition df"
   ]
  },
  {
   "cell_type": "code",
   "execution_count": 3,
   "id": "b3274cf3-5fb7-4907-83bd-69a815431a56",
   "metadata": {},
   "outputs": [],
   "source": [
    "from pyspark.sql import types\n",
    "schema = types.StructType([\n",
    "    types.StructField('hvfhs_license_num', types.StringType(), True),\n",
    "    types.StructField('dispatching_base_num', types.StringType(), True),\n",
    "    types.StructField('pickup_datetime', types.TimestampType(), True),\n",
    "    types.StructField('dropoff_datetime', types.TimestampType(), True),\n",
    "    types.StructField('PULocationID', types.IntegerType(), True),\n",
    "    types.StructField('DOLocationID', types.IntegerType(), True),\n",
    "    types.StructField('SR_Flag', types.StringType(), True)\n",
    "])"
   ]
  },
  {
   "cell_type": "code",
   "execution_count": 4,
   "id": "4eab3081-ed05-440d-b4a7-5ead63580cf4",
   "metadata": {},
   "outputs": [],
   "source": [
    "df = spark.read \\\n",
    "    .option(\"header\", \"true\") \\\n",
    "    .schema(schema) \\\n",
    "    .csv('fhv_tripdata_2019-01.csv')"
   ]
  },
  {
   "cell_type": "code",
   "execution_count": 5,
   "id": "26aa3088-4285-4d63-b90f-539f8d02711d",
   "metadata": {},
   "outputs": [],
   "source": [
    "df = df.repartition(24)"
   ]
  },
  {
   "cell_type": "code",
   "execution_count": 6,
   "id": "77f98481-1a3a-4baa-bd61-7c940be5b59a",
   "metadata": {},
   "outputs": [],
   "source": [
    "df.write.parquet('fhvhv/2021/01/')"
   ]
  },
  {
   "cell_type": "code",
   "execution_count": 7,
   "id": "4056cd2f-e723-402c-bc3e-856d9b909079",
   "metadata": {},
   "outputs": [
    {
     "name": "stdout",
     "output_type": "stream",
     "text": [
      "root\n",
      " |-- hvfhs_license_num: string (nullable = true)\n",
      " |-- dispatching_base_num: string (nullable = true)\n",
      " |-- pickup_datetime: timestamp (nullable = true)\n",
      " |-- dropoff_datetime: timestamp (nullable = true)\n",
      " |-- PULocationID: integer (nullable = true)\n",
      " |-- DOLocationID: integer (nullable = true)\n",
      " |-- SR_Flag: string (nullable = true)\n",
      "\n"
     ]
    }
   ],
   "source": [
    "df = spark.read.parquet('fhvhv/2021/01/')\n",
    "df.printSchema()"
   ]
  },
  {
   "cell_type": "code",
   "execution_count": 8,
   "id": "f286d2b9-527b-43f7-b1dc-ebda1276f331",
   "metadata": {},
   "outputs": [
    {
     "name": "stdout",
     "output_type": "stream",
     "text": [
      "+-----------------+--------------------+-------------------+----------------+------------+------------+-------+\n",
      "|hvfhs_license_num|dispatching_base_num|    pickup_datetime|dropoff_datetime|PULocationID|DOLocationID|SR_Flag|\n",
      "+-----------------+--------------------+-------------------+----------------+------------+------------+-------+\n",
      "|           B02883| 2019-01-02 17:47:11|2019-01-02 18:01:43|            NULL|          18|        NULL| B02883|\n",
      "|           B02835| 2019-01-03 11:22:49|2019-01-03 11:36:08|            NULL|         158|        NULL| B02835|\n",
      "|           B02875| 2019-01-02 20:16:05|2019-01-02 20:26:40|            NULL|         246|        NULL| B02875|\n",
      "|           B02510| 2019-01-01 13:10:11|2019-01-01 13:14:47|            NULL|         177|           1| B02876|\n",
      "|           B02882| 2019-01-01 02:29:49|2019-01-01 03:14:58|            NULL|          48|        NULL| B02882|\n",
      "|           B02765| 2019-01-03 04:26:13|2019-01-03 05:01:03|            NULL|           1|        NULL| B02765|\n",
      "|           B02872| 2019-01-01 05:27:10|2019-01-01 05:56:11|            NULL|          49|           1| B02872|\n",
      "|           B02765| 2019-01-02 22:11:05|2019-01-02 22:37:32|            NULL|          79|        NULL| B02765|\n",
      "|           B02510| 2019-01-03 14:35:55|2019-01-03 15:14:52|            NULL|         163|           1| B02875|\n",
      "|           B02878| 2019-01-01 22:37:55|2019-01-01 22:53:28|            NULL|          37|           1| B02878|\n",
      "|           B02867| 2019-01-03 13:43:03|2019-01-03 14:08:37|            NULL|          65|           1| B02867|\n",
      "|           B02871| 2019-01-03 22:51:37|2019-01-03 22:59:32|            NULL|         172|           2| B02871|\n",
      "|           B03035| 2019-01-01 00:48:39|2019-01-01 01:08:31|            NULL|        NULL|        NULL| B02765|\n",
      "|           B01949| 2019-01-03 23:23:00|2019-01-04 00:00:00|            NULL|        NULL|        NULL| B02836|\n",
      "|           B02510| 2019-01-01 15:36:21|2019-01-01 15:53:07|            NULL|         191|        NULL| B02875|\n",
      "|           B02883| 2019-01-01 01:55:06|2019-01-01 02:00:27|            NULL|          80|        NULL| B02883|\n",
      "|           B02872| 2019-01-02 09:21:34|2019-01-02 09:31:07|            NULL|         220|        NULL| B02872|\n",
      "|           B02884| 2019-01-03 10:06:14|2019-01-03 10:20:46|            NULL|         130|        NULL| B02884|\n",
      "|           B02682| 2019-01-02 08:12:26|2019-01-02 08:35:16|            NULL|          13|           1| B02682|\n",
      "|           B02510| 2019-01-01 01:48:02|2019-01-01 01:58:22|            NULL|          37|        NULL| B02765|\n",
      "+-----------------+--------------------+-------------------+----------------+------------+------------+-------+\n",
      "only showing top 20 rows\n",
      "\n"
     ]
    }
   ],
   "source": [
    "from pyspark.sql import functions as F\n",
    "df.show()"
   ]
  },
  {
   "cell_type": "code",
   "execution_count": 9,
   "id": "5bacaf58-9201-42a8-b405-ac266da629d3",
   "metadata": {},
   "outputs": [],
   "source": [
    "def crazy_stuff(base_num):\n",
    "    num = int(base_num[1:])\n",
    "    if num % 7 == 0:\n",
    "        return f's/{num:03x}'\n",
    "    elif num % 3 == 0:\n",
    "        return f'a/{num:03x}'\n",
    "    else:\n",
    "        return f'e/{num:03x}'"
   ]
  },
  {
   "cell_type": "code",
   "execution_count": 10,
   "id": "65b394ea-0209-4d0e-b8c1-19d8eac7e2d3",
   "metadata": {},
   "outputs": [
    {
     "data": {
      "text/plain": [
       "'s/b44'"
      ]
     },
     "execution_count": 10,
     "metadata": {},
     "output_type": "execute_result"
    }
   ],
   "source": [
    "crazy_stuff('B02884')"
   ]
  },
  {
   "cell_type": "code",
   "execution_count": 11,
   "id": "ad49aba7-a10a-410d-b1d2-90efe4ebebb8",
   "metadata": {},
   "outputs": [
    {
     "name": "stdout",
     "output_type": "stream",
     "text": [
      "+-----------+------------+------------+------------+\n",
      "|pickup_date|dropoff_date|PULocationID|DOLocationID|\n",
      "+-----------+------------+------------+------------+\n",
      "| 2019-01-02|        NULL|          18|        NULL|\n",
      "| 2019-01-03|        NULL|         158|        NULL|\n",
      "| 2019-01-02|        NULL|         246|        NULL|\n",
      "| 2019-01-01|        NULL|         177|           1|\n",
      "| 2019-01-01|        NULL|          48|        NULL|\n",
      "| 2019-01-03|        NULL|           1|        NULL|\n",
      "| 2019-01-01|        NULL|          49|           1|\n",
      "| 2019-01-02|        NULL|          79|        NULL|\n",
      "| 2019-01-03|        NULL|         163|           1|\n",
      "| 2019-01-01|        NULL|          37|           1|\n",
      "| 2019-01-03|        NULL|          65|           1|\n",
      "| 2019-01-03|        NULL|         172|           2|\n",
      "| 2019-01-01|        NULL|        NULL|        NULL|\n",
      "| 2019-01-04|        NULL|        NULL|        NULL|\n",
      "| 2019-01-01|        NULL|         191|        NULL|\n",
      "| 2019-01-01|        NULL|          80|        NULL|\n",
      "| 2019-01-02|        NULL|         220|        NULL|\n",
      "| 2019-01-03|        NULL|         130|        NULL|\n",
      "| 2019-01-02|        NULL|          13|           1|\n",
      "| 2019-01-01|        NULL|          37|        NULL|\n",
      "+-----------+------------+------------+------------+\n",
      "only showing top 20 rows\n",
      "\n"
     ]
    }
   ],
   "source": [
    "crazy_stuff_udf = F.udf(crazy_stuff, returnType=types.StringType())\n",
    "df \\\n",
    "    .withColumn('pickup_date', F.to_date(df.pickup_datetime)) \\\n",
    "    .withColumn('dropoff_date', F.to_date(df.dropoff_datetime)) \\\n",
    "    .select( 'pickup_date', 'dropoff_date', 'PULocationID', 'DOLocationID') \\\n",
    "    .show()"
   ]
  },
  {
   "cell_type": "code",
   "execution_count": 17,
   "id": "f7b91020-521a-4e68-87c6-90755882c68e",
   "metadata": {},
   "outputs": [],
   "source": [
    "# crazy_stuff_udf = F.udf(crazy_stuff, returnType=types.StringType())\n",
    "# df \\\n",
    "#     .withColumn('pickup_date', F.to_date(df.pickup_datetime)) \\\n",
    "#     .withColumn('dropoff_date', F.to_date(df.dropoff_datetime)) \\\n",
    "#     # .withColumn('base_id', crazy_stuff_udf(df.dispatching_base_num)) \\\n",
    "#     .select('base_id', 'pickup_date', 'dropoff_date', 'PULocationID', 'DOLocationID') \\\n",
    "#     .show()"
   ]
  },
  {
   "cell_type": "code",
   "execution_count": 12,
   "id": "f5c34947-e2a6-443e-9ceb-ff429f3ffae6",
   "metadata": {},
   "outputs": [
    {
     "data": {
      "text/plain": [
       "DataFrame[pickup_datetime: timestamp, dropoff_datetime: timestamp, PULocationID: int, DOLocationID: int]"
      ]
     },
     "execution_count": 12,
     "metadata": {},
     "output_type": "execute_result"
    }
   ],
   "source": [
    "df.select('pickup_datetime', 'dropoff_datetime', 'PULocationID', 'DOLocationID') \\\n",
    "  .filter(df.hvfhs_license_num == 'HV0003')"
   ]
  },
  {
   "cell_type": "code",
   "execution_count": null,
   "id": "7f2e119f-0e18-4f92-9c9d-200558a9b4c7",
   "metadata": {},
   "outputs": [],
   "source": []
  }
 ],
 "metadata": {
  "kernelspec": {
   "display_name": "Python 3 (ipykernel)",
   "language": "python",
   "name": "python3"
  },
  "language_info": {
   "codemirror_mode": {
    "name": "ipython",
    "version": 3
   },
   "file_extension": ".py",
   "mimetype": "text/x-python",
   "name": "python",
   "nbconvert_exporter": "python",
   "pygments_lexer": "ipython3",
   "version": "3.11.6"
  }
 },
 "nbformat": 4,
 "nbformat_minor": 5
}

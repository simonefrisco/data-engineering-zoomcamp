{
  "cells": [
    {
      "cell_type": "markdown",
      "metadata": {
        "id": "mrTFv5nPClXh"
      },
      "source": [
        "# **Homework**: Data talks club data engineering zoomcamp Data loading workshop\n",
        "\n",
        "Hello folks, let's practice what we learned - Loading data with the best practices of data engineering.\n",
        "\n",
        "Here are the exercises we will do\n",
        "\n",
        "\n"
      ]
    },
    {
      "cell_type": "markdown",
      "metadata": {
        "id": "wLF4iXf-NR7t"
      },
      "source": [
        "# 1. Use a generator\n",
        "\n",
        "Remember the concept of generator? Let's practice using them to futher our understanding of how they work.\n",
        "\n",
        "Let's define a generator and then run it as practice.\n",
        "\n",
        "**Answer the following questions:**\n",
        "\n",
        "- **Question 1: What is the sum of the outputs of the generator for limit = 5?**\n",
        "- **Question 2: What is the 13th number yielded**\n",
        "\n",
        "I suggest practicing these questions without GPT as the purpose is to further your learning."
      ]
    },
    {
      "cell_type": "code",
      "execution_count": 1,
      "metadata": {
        "colab": {
          "base_uri": "https://localhost:8080/"
        },
        "id": "wLng-bDJN4jf",
        "outputId": "d63a9967-f52b-47f4-908b-ced7ef7f5811"
      },
      "outputs": [
        {
          "name": "stdout",
          "output_type": "stream",
          "text": [
            "1.0\n",
            "1.4142135623730951\n",
            "1.7320508075688772\n",
            "2.0\n",
            "2.23606797749979\n"
          ]
        }
      ],
      "source": [
        "def square_root_generator(limit):\n",
        "    n = 1\n",
        "    while n <= limit:\n",
        "        yield n ** 0.5\n",
        "        n += 1\n",
        "\n",
        "# Example usage:\n",
        "limit = 5\n",
        "generator = square_root_generator(limit)\n",
        "\n",
        "for sqrt_value in generator:\n",
        "    print(sqrt_value)\n"
      ]
    },
    {
      "cell_type": "markdown",
      "metadata": {
        "id": "vjWhILzGJMpK"
      },
      "source": [
        "# 2. Append a generator to a table with existing data\n",
        "\n",
        "\n",
        "Below you have 2 generators. You will be tasked to load them to duckdb and answer some questions from the data\n",
        "\n",
        "1. Load the first generator and calculate the sum of ages of all people. Make sure to only load it once.\n",
        "2. Append the second generator to the same table as the first.\n",
        "3. **After correctly appending the data, calculate the sum of all ages of people.**\n",
        "\n",
        "\n"
      ]
    },
    {
      "cell_type": "code",
      "execution_count": 2,
      "metadata": {
        "colab": {
          "base_uri": "https://localhost:8080/"
        },
        "id": "2MoaQcdLBEk6",
        "outputId": "d23489fe-5c3f-4933-bf12-c8d914568981"
      },
      "outputs": [
        {
          "name": "stdout",
          "output_type": "stream",
          "text": [
            "{'ID': 1, 'Name': 'Person_1', 'Age': 26, 'City': 'City_A'}\n",
            "{'ID': 2, 'Name': 'Person_2', 'Age': 27, 'City': 'City_A'}\n",
            "{'ID': 3, 'Name': 'Person_3', 'Age': 28, 'City': 'City_A'}\n",
            "{'ID': 4, 'Name': 'Person_4', 'Age': 29, 'City': 'City_A'}\n",
            "{'ID': 5, 'Name': 'Person_5', 'Age': 30, 'City': 'City_A'}\n",
            "{'ID': 3, 'Name': 'Person_3', 'Age': 33, 'City': 'City_B', 'Occupation': 'Job_3'}\n",
            "{'ID': 4, 'Name': 'Person_4', 'Age': 34, 'City': 'City_B', 'Occupation': 'Job_4'}\n",
            "{'ID': 5, 'Name': 'Person_5', 'Age': 35, 'City': 'City_B', 'Occupation': 'Job_5'}\n",
            "{'ID': 6, 'Name': 'Person_6', 'Age': 36, 'City': 'City_B', 'Occupation': 'Job_6'}\n",
            "{'ID': 7, 'Name': 'Person_7', 'Age': 37, 'City': 'City_B', 'Occupation': 'Job_7'}\n",
            "{'ID': 8, 'Name': 'Person_8', 'Age': 38, 'City': 'City_B', 'Occupation': 'Job_8'}\n"
          ]
        }
      ],
      "source": [
        "def people_1():\n",
        "    for i in range(1, 6):\n",
        "        yield {\"ID\": i, \"Name\": f\"Person_{i}\", \"Age\": 25 + i, \"City\": \"City_A\"}\n",
        "\n",
        "for person in people_1():\n",
        "    print(person)\n",
        "\n",
        "\n",
        "def people_2():\n",
        "    for i in range(3, 9):\n",
        "        yield {\"ID\": i, \"Name\": f\"Person_{i}\", \"Age\": 30 + i, \"City\": \"City_B\", \"Occupation\": f\"Job_{i}\"}\n",
        "\n",
        "\n",
        "for person in people_2():\n",
        "    print(person)\n"
      ]
    },
    {
      "cell_type": "markdown",
      "metadata": {
        "id": "pY4cFAWOSwN1"
      },
      "source": [
        "# 3. Merge a generator\n",
        "\n",
        "Re-use the generators from Exercise 2.\n",
        "\n",
        "A table's primary key needs to be created from the start, so load your data to a new table with primary key ID.\n",
        "\n",
        "Load your first generator first, and then load the second one with merge. Since they have overlapping IDs, some of the records from the first load should be replaced by the ones from the second load.\n",
        "\n",
        "After loading, you should have a total of 8 records, and ID 3 should have age 33.\n",
        "\n",
        "Question: **Calculate the sum of ages of all the people loaded as described above.**\n"
      ]
    },
    {
      "cell_type": "markdown",
      "metadata": {
        "id": "kKB2GTB9oVjr"
      },
      "source": [
        "# Solution"
      ]
    },
    {
      "cell_type": "markdown",
      "metadata": {
        "id": "oPI5IjyJTjEw"
      },
      "source": [
        "## Answer 1"
      ]
    },
    {
      "cell_type": "code",
      "execution_count": 3,
      "metadata": {
        "colab": {
          "base_uri": "https://localhost:8080/"
        },
        "id": "kdkqoi1eSBkq",
        "outputId": "f40da772-9ed4-4656-9038-abfc824c7e6a"
      },
      "outputs": [
        {
          "name": "stdout",
          "output_type": "stream",
          "text": [
            "1.0\n",
            "2.414213562373095\n",
            "4.146264369941973\n",
            "6.146264369941973\n",
            "8.382332347441762\n"
          ]
        }
      ],
      "source": [
        "def sum_generator(limit):\n",
        "    n = 1\n",
        "    sm = []\n",
        "    while n <= limit:\n",
        "        sm.append(n ** 0.5)\n",
        "        yield sum(sm)\n",
        "        n += 1\n",
        "\n",
        "# Example usage:\n",
        "limit = 5\n",
        "generator = sum_generator(limit)\n",
        "\n",
        "for sum_value in generator:\n",
        "    print(sum_value)"
      ]
    },
    {
      "cell_type": "markdown",
      "metadata": {
        "id": "xbe3q55zN43j"
      },
      "source": [
        "## Answer 2"
      ]
    },
    {
      "cell_type": "code",
      "execution_count": 4,
      "metadata": {
        "colab": {
          "base_uri": "https://localhost:8080/"
        },
        "id": "VwXMVq1bToOL",
        "outputId": "7e9320dd-e89b-4273-a519-1a7c77254402"
      },
      "outputs": [
        {
          "name": "stdout",
          "output_type": "stream",
          "text": [
            "1.0\n",
            "1.4142135623730951\n",
            "1.7320508075688772\n",
            "2.0\n",
            "2.23606797749979\n",
            "2.449489742783178\n",
            "2.6457513110645907\n",
            "2.8284271247461903\n",
            "3.0\n",
            "3.1622776601683795\n",
            "3.3166247903554\n",
            "3.4641016151377544\n",
            "3.605551275463989\n"
          ]
        }
      ],
      "source": [
        "# Example usage:\n",
        "limit = 13\n",
        "generator = square_root_generator(limit)\n",
        "\n",
        "for sqrt_value in generator:\n",
        "    print(sqrt_value)"
      ]
    },
    {
      "cell_type": "markdown",
      "metadata": {
        "id": "RY4VjOKmXJTE"
      },
      "source": [
        "## Answer *3*"
      ]
    },
    {
      "cell_type": "code",
      "execution_count": 5,
      "metadata": {
        "colab": {
          "base_uri": "https://localhost:8080/"
        },
        "id": "WzpKiZM3XJTK",
        "outputId": "2d2ce82d-2515-454f-8ad1-9b1bcdad11db"
      },
      "outputs": [
        {
          "name": "stdout",
          "output_type": "stream",
          "text": [
            "Requirement already satisfied: dlt[duckdb] in /usr/local/lib/python3.10/dist-packages (0.4.4)\n",
            "Requirement already satisfied: PyYAML>=5.4.1 in /usr/local/lib/python3.10/dist-packages (from dlt[duckdb]) (6.0.1)\n",
            "Requirement already satisfied: SQLAlchemy>=1.4.0 in /usr/local/lib/python3.10/dist-packages (from dlt[duckdb]) (2.0.27)\n",
            "Requirement already satisfied: astunparse>=1.6.3 in /usr/local/lib/python3.10/dist-packages (from dlt[duckdb]) (1.6.3)\n",
            "Requirement already satisfied: click>=7.1 in /usr/local/lib/python3.10/dist-packages (from dlt[duckdb]) (8.1.7)\n",
            "Requirement already satisfied: fsspec>=2022.4.0 in /usr/local/lib/python3.10/dist-packages (from dlt[duckdb]) (2023.6.0)\n",
            "Requirement already satisfied: gitpython>=3.1.29 in /usr/local/lib/python3.10/dist-packages (from dlt[duckdb]) (3.1.42)\n",
            "Requirement already satisfied: giturlparse>=0.10.0 in /usr/local/lib/python3.10/dist-packages (from dlt[duckdb]) (0.12.0)\n",
            "Requirement already satisfied: hexbytes>=0.2.2 in /usr/local/lib/python3.10/dist-packages (from dlt[duckdb]) (1.0.0)\n",
            "Requirement already satisfied: humanize>=4.4.0 in /usr/local/lib/python3.10/dist-packages (from dlt[duckdb]) (4.7.0)\n",
            "Requirement already satisfied: jsonpath-ng>=1.5.3 in /usr/local/lib/python3.10/dist-packages (from dlt[duckdb]) (1.6.1)\n",
            "Requirement already satisfied: makefun>=1.15.0 in /usr/local/lib/python3.10/dist-packages (from dlt[duckdb]) (1.15.2)\n",
            "Requirement already satisfied: orjson<=3.9.10,>=3.6.7 in /usr/local/lib/python3.10/dist-packages (from dlt[duckdb]) (3.9.10)\n",
            "Requirement already satisfied: packaging>=21.1 in /usr/local/lib/python3.10/dist-packages (from dlt[duckdb]) (23.2)\n",
            "Requirement already satisfied: pathvalidate>=2.5.2 in /usr/local/lib/python3.10/dist-packages (from dlt[duckdb]) (3.2.0)\n",
            "Requirement already satisfied: pendulum>=2.1.2 in /usr/local/lib/python3.10/dist-packages (from dlt[duckdb]) (3.0.0)\n",
            "Requirement already satisfied: pytz>=2022.6 in /usr/local/lib/python3.10/dist-packages (from dlt[duckdb]) (2023.4)\n",
            "Requirement already satisfied: requests>=2.26.0 in /usr/local/lib/python3.10/dist-packages (from dlt[duckdb]) (2.31.0)\n",
            "Requirement already satisfied: requirements-parser>=0.5.0 in /usr/local/lib/python3.10/dist-packages (from dlt[duckdb]) (0.5.0)\n",
            "Requirement already satisfied: semver>=2.13.0 in /usr/local/lib/python3.10/dist-packages (from dlt[duckdb]) (3.0.2)\n",
            "Requirement already satisfied: setuptools>=65.6.0 in /usr/local/lib/python3.10/dist-packages (from dlt[duckdb]) (67.7.2)\n",
            "Requirement already satisfied: simplejson>=3.17.5 in /usr/local/lib/python3.10/dist-packages (from dlt[duckdb]) (3.19.2)\n",
            "Requirement already satisfied: tenacity>=8.0.2 in /usr/local/lib/python3.10/dist-packages (from dlt[duckdb]) (8.2.3)\n",
            "Requirement already satisfied: tomlkit>=0.11.3 in /usr/local/lib/python3.10/dist-packages (from dlt[duckdb]) (0.12.3)\n",
            "Requirement already satisfied: typing-extensions>=4.0.0 in /usr/local/lib/python3.10/dist-packages (from dlt[duckdb]) (4.9.0)\n",
            "Requirement already satisfied: tzdata>=2022.1 in /usr/local/lib/python3.10/dist-packages (from dlt[duckdb]) (2024.1)\n",
            "Requirement already satisfied: duckdb<0.10.0,>=0.6.1 in /usr/local/lib/python3.10/dist-packages (from dlt[duckdb]) (0.9.2)\n",
            "Requirement already satisfied: wheel<1.0,>=0.23.0 in /usr/local/lib/python3.10/dist-packages (from astunparse>=1.6.3->dlt[duckdb]) (0.42.0)\n",
            "Requirement already satisfied: six<2.0,>=1.6.1 in /usr/local/lib/python3.10/dist-packages (from astunparse>=1.6.3->dlt[duckdb]) (1.16.0)\n",
            "Requirement already satisfied: gitdb<5,>=4.0.1 in /usr/local/lib/python3.10/dist-packages (from gitpython>=3.1.29->dlt[duckdb]) (4.0.11)\n",
            "Requirement already satisfied: ply in /usr/local/lib/python3.10/dist-packages (from jsonpath-ng>=1.5.3->dlt[duckdb]) (3.11)\n",
            "Requirement already satisfied: python-dateutil>=2.6 in /usr/local/lib/python3.10/dist-packages (from pendulum>=2.1.2->dlt[duckdb]) (2.8.2)\n",
            "Requirement already satisfied: time-machine>=2.6.0 in /usr/local/lib/python3.10/dist-packages (from pendulum>=2.1.2->dlt[duckdb]) (2.13.0)\n",
            "Requirement already satisfied: charset-normalizer<4,>=2 in /usr/local/lib/python3.10/dist-packages (from requests>=2.26.0->dlt[duckdb]) (3.3.2)\n",
            "Requirement already satisfied: idna<4,>=2.5 in /usr/local/lib/python3.10/dist-packages (from requests>=2.26.0->dlt[duckdb]) (3.6)\n",
            "Requirement already satisfied: urllib3<3,>=1.21.1 in /usr/local/lib/python3.10/dist-packages (from requests>=2.26.0->dlt[duckdb]) (2.0.7)\n",
            "Requirement already satisfied: certifi>=2017.4.17 in /usr/local/lib/python3.10/dist-packages (from requests>=2.26.0->dlt[duckdb]) (2024.2.2)\n",
            "Requirement already satisfied: types-setuptools>=57.0.0 in /usr/local/lib/python3.10/dist-packages (from requirements-parser>=0.5.0->dlt[duckdb]) (69.0.0.20240125)\n",
            "Requirement already satisfied: greenlet!=0.4.17 in /usr/local/lib/python3.10/dist-packages (from SQLAlchemy>=1.4.0->dlt[duckdb]) (3.0.3)\n",
            "Requirement already satisfied: smmap<6,>=3.0.1 in /usr/local/lib/python3.10/dist-packages (from gitdb<5,>=4.0.1->gitpython>=3.1.29->dlt[duckdb]) (5.0.1)\n"
          ]
        }
      ],
      "source": [
        "!pip install dlt[duckdb] # Install dlt with all the necessary DuckDB dependencies"
      ]
    },
    {
      "cell_type": "code",
      "execution_count": 6,
      "metadata": {
        "id": "QZiVDZuXXJTL"
      },
      "outputs": [],
      "source": [
        "import duckdb\n",
        "import dlt\n",
        "\n",
        "generators_pipeline = dlt.pipeline(destination='duckdb', dataset_name='data')\n",
        "conn = duckdb.connect(f\"{generators_pipeline.pipeline_name}.duckdb\")\n",
        "conn.sql(f\"SET search_path = '{generators_pipeline.dataset_name}'\")"
      ]
    },
    {
      "cell_type": "markdown",
      "metadata": {
        "id": "BStzWDzgXJTK"
      },
      "source": [
        "### setup"
      ]
    },
    {
      "cell_type": "markdown",
      "metadata": {
        "id": "DqNmS74pXJTL"
      },
      "source": [
        "### load first time"
      ]
    },
    {
      "cell_type": "code",
      "execution_count": 7,
      "metadata": {
        "colab": {
          "base_uri": "https://localhost:8080/"
        },
        "id": "oemv7JzXXJTL",
        "outputId": "2cd061a1-7a5f-447b-d7d7-8db6f2d8afe5"
      },
      "outputs": [
        {
          "name": "stdout",
          "output_type": "stream",
          "text": [
            "Pipeline dlt_colab_kernel_launcher load step completed in 0.24 seconds\n",
            "1 load package(s) were loaded to destination duckdb and into dataset data\n",
            "The duckdb destination used duckdb:////content/dlt_colab_kernel_launcher.duckdb location to store data\n",
            "Load package 1708044348.7173808 is LOADED and contains no failed jobs\n"
          ]
        }
      ],
      "source": [
        "info = generators_pipeline.run(people_1(),\n",
        "\t\t\t\t\t\t\t\t\t\ttable_name=\"people\",\n",
        "\t\t\t\t\t\t\t\t\t\twrite_disposition=\"replace\")\n",
        "\n",
        "# the outcome metadata is returned by the load and we can inspect it by printing it.\n",
        "print(info)"
      ]
    },
    {
      "cell_type": "code",
      "execution_count": 8,
      "metadata": {
        "colab": {
          "base_uri": "https://localhost:8080/"
        },
        "id": "AxEcqrPEXJTL",
        "outputId": "02674ad3-389a-4b4d-9341-951be939a8da"
      },
      "outputs": [
        {
          "data": {
            "text/plain": [
              "┌───────┬──────────┬───────┬─────────┬────────────────────┬────────────────┬────────────┐\n",
              "│  id   │   name   │  age  │  city   │    _dlt_load_id    │    _dlt_id     │ occupation │\n",
              "│ int64 │ varchar  │ int64 │ varchar │      varchar       │    varchar     │  varchar   │\n",
              "├───────┼──────────┼───────┼─────────┼────────────────────┼────────────────┼────────────┤\n",
              "│     1 │ Person_1 │    26 │ City_A  │ 1708044348.7173808 │ LLhi7D7E7LZDMg │ NULL       │\n",
              "│     2 │ Person_2 │    27 │ City_A  │ 1708044348.7173808 │ W7bKrlEwoH1gdg │ NULL       │\n",
              "│     3 │ Person_3 │    28 │ City_A  │ 1708044348.7173808 │ Cl9k94kHb+HQlQ │ NULL       │\n",
              "│     4 │ Person_4 │    29 │ City_A  │ 1708044348.7173808 │ VrEfqtd1eNTyTQ │ NULL       │\n",
              "│     5 │ Person_5 │    30 │ City_A  │ 1708044348.7173808 │ 3VvXp+wFmLT/9A │ NULL       │\n",
              "└───────┴──────────┴───────┴─────────┴────────────────────┴────────────────┴────────────┘"
            ]
          },
          "execution_count": 8,
          "metadata": {},
          "output_type": "execute_result"
        }
      ],
      "source": [
        "conn.sql('SELECT * FROM people')"
      ]
    },
    {
      "cell_type": "code",
      "execution_count": 9,
      "metadata": {
        "colab": {
          "base_uri": "https://localhost:8080/"
        },
        "id": "kyKmEx4_XJTM",
        "outputId": "9ed424bb-d4ec-4ec9-8766-db433f3805ed"
      },
      "outputs": [
        {
          "data": {
            "text/plain": [
              "┌──────────┐\n",
              "│ sum(age) │\n",
              "│  int128  │\n",
              "├──────────┤\n",
              "│      140 │\n",
              "└──────────┘"
            ]
          },
          "execution_count": 9,
          "metadata": {},
          "output_type": "execute_result"
        }
      ],
      "source": [
        "conn.sql('SELECT SUM(age) FROM people')"
      ]
    },
    {
      "cell_type": "markdown",
      "metadata": {
        "id": "d8pLyuBLXJTM"
      },
      "source": [
        "### add and update"
      ]
    },
    {
      "cell_type": "code",
      "execution_count": 10,
      "metadata": {
        "colab": {
          "base_uri": "https://localhost:8080/"
        },
        "id": "994TFcbCXJTM",
        "outputId": "44b9e7bf-71e0-4a09-ad71-53430b96cf45"
      },
      "outputs": [
        {
          "name": "stdout",
          "output_type": "stream",
          "text": [
            "Pipeline dlt_colab_kernel_launcher load step completed in 0.23 seconds\n",
            "1 load package(s) were loaded to destination duckdb and into dataset data\n",
            "The duckdb destination used duckdb:////content/dlt_colab_kernel_launcher.duckdb location to store data\n",
            "Load package 1708044349.5633864 is LOADED and contains no failed jobs\n"
          ]
        },
        {
          "data": {
            "text/plain": [
              "┌───────┬──────────┬───────┬─────────┬────────────────────┬────────────────┬────────────┐\n",
              "│  id   │   name   │  age  │  city   │    _dlt_load_id    │    _dlt_id     │ occupation │\n",
              "│ int64 │ varchar  │ int64 │ varchar │      varchar       │    varchar     │  varchar   │\n",
              "├───────┼──────────┼───────┼─────────┼────────────────────┼────────────────┼────────────┤\n",
              "│     1 │ Person_1 │    26 │ City_A  │ 1708044348.7173808 │ LLhi7D7E7LZDMg │ NULL       │\n",
              "│     2 │ Person_2 │    27 │ City_A  │ 1708044348.7173808 │ W7bKrlEwoH1gdg │ NULL       │\n",
              "│     3 │ Person_3 │    28 │ City_A  │ 1708044348.7173808 │ Cl9k94kHb+HQlQ │ NULL       │\n",
              "│     4 │ Person_4 │    29 │ City_A  │ 1708044348.7173808 │ VrEfqtd1eNTyTQ │ NULL       │\n",
              "│     5 │ Person_5 │    30 │ City_A  │ 1708044348.7173808 │ 3VvXp+wFmLT/9A │ NULL       │\n",
              "│     3 │ Person_3 │    33 │ City_B  │ 1708044349.5633864 │ YPZt5YFbrdOK+A │ Job_3      │\n",
              "│     4 │ Person_4 │    34 │ City_B  │ 1708044349.5633864 │ 1VPlvfCD5ZpbEg │ Job_4      │\n",
              "│     5 │ Person_5 │    35 │ City_B  │ 1708044349.5633864 │ FE0z0cJJCiDklw │ Job_5      │\n",
              "│     6 │ Person_6 │    36 │ City_B  │ 1708044349.5633864 │ 2BsG3wgktmSvBA │ Job_6      │\n",
              "│     7 │ Person_7 │    37 │ City_B  │ 1708044349.5633864 │ rSBQSyblSPQw6A │ Job_7      │\n",
              "│     8 │ Person_8 │    38 │ City_B  │ 1708044349.5633864 │ 4q5fVFKfRVv/nQ │ Job_8      │\n",
              "├───────┴──────────┴───────┴─────────┴────────────────────┴────────────────┴────────────┤\n",
              "│ 11 rows                                                                     7 columns │\n",
              "└───────────────────────────────────────────────────────────────────────────────────────┘"
            ]
          },
          "execution_count": 10,
          "metadata": {},
          "output_type": "execute_result"
        }
      ],
      "source": [
        "info = generators_pipeline.run(people_2,\n",
        "\t\t\t\t\t\t\t\t\t\ttable_name=\"people\",\n",
        "\t\t\t\t\t\t\t\t\t\twrite_disposition=\"append\",\n",
        "                    )\n",
        "print(info)\n",
        "conn.sql('SELECT * FROM people')"
      ]
    },
    {
      "cell_type": "code",
      "execution_count": 11,
      "metadata": {
        "colab": {
          "base_uri": "https://localhost:8080/"
        },
        "id": "KaM_ONc9XJTM",
        "outputId": "0739172e-d426-404c-9927-acad2d8672e2"
      },
      "outputs": [
        {
          "data": {
            "text/plain": [
              "┌──────────┐\n",
              "│ sum(age) │\n",
              "│  int128  │\n",
              "├──────────┤\n",
              "│      353 │\n",
              "└──────────┘"
            ]
          },
          "execution_count": 11,
          "metadata": {},
          "output_type": "execute_result"
        }
      ],
      "source": [
        "conn.sql('SELECT SUM(age) FROM people')"
      ]
    },
    {
      "cell_type": "markdown",
      "metadata": {
        "id": "DIpDg1aoXY7g"
      },
      "source": [
        "## Answer 4"
      ]
    },
    {
      "cell_type": "code",
      "execution_count": 12,
      "metadata": {
        "id": "SMQZXWN-UHED"
      },
      "outputs": [],
      "source": [
        "import duckdb\n",
        "import dlt\n",
        "\n",
        "generators_pipeline_merge = dlt.pipeline(destination='duckdb', dataset_name='data_merge')\n",
        "conn = duckdb.connect(f\"{generators_pipeline_merge.pipeline_name}.duckdb\")\n",
        "\n",
        "conn.sql(f\"SET search_path = '{generators_pipeline_merge.dataset_name}'\")"
      ]
    },
    {
      "cell_type": "markdown",
      "metadata": {
        "id": "G3H-1P9KVLHS"
      },
      "source": [
        "### setup"
      ]
    },
    {
      "cell_type": "markdown",
      "metadata": {
        "id": "zrHL4_kTVN8p"
      },
      "source": [
        "### load first time"
      ]
    },
    {
      "cell_type": "code",
      "execution_count": 14,
      "metadata": {
        "colab": {
          "base_uri": "https://localhost:8080/"
        },
        "id": "-NgH2l3bVFGv",
        "outputId": "bda4ed3f-22a6-422d-8183-528b038bb191"
      },
      "outputs": [
        {
          "name": "stdout",
          "output_type": "stream",
          "text": [
            "Pipeline dlt_colab_kernel_launcher load step completed in 0.26 seconds\n",
            "1 load package(s) were loaded to destination duckdb and into dataset data_merge\n",
            "The duckdb destination used duckdb:////content/dlt_colab_kernel_launcher.duckdb location to store data\n",
            "Load package 1708044362.4206784 is LOADED and contains no failed jobs\n"
          ]
        }
      ],
      "source": [
        "# the outcome metadata is returned by the load and we can inspect it by printing it.\n",
        "info = generators_pipeline_merge.run(people_1(),\n",
        "\t\t\t\t\t\t\t\t\t\ttable_name=\"people\",\n",
        "\t\t\t\t\t\t\t\t\t\twrite_disposition=\"replace\")\n",
        "print(info)"
      ]
    },
    {
      "cell_type": "code",
      "execution_count": 15,
      "metadata": {
        "colab": {
          "base_uri": "https://localhost:8080/"
        },
        "id": "FwdF2WFQU0By",
        "outputId": "d6c739a6-cd98-4f38-98aa-928744831a36"
      },
      "outputs": [
        {
          "data": {
            "text/plain": [
              "┌───────┬──────────┬───────┬─────────┬────────────────────┬────────────────┐\n",
              "│  id   │   name   │  age  │  city   │    _dlt_load_id    │    _dlt_id     │\n",
              "│ int64 │ varchar  │ int64 │ varchar │      varchar       │    varchar     │\n",
              "├───────┼──────────┼───────┼─────────┼────────────────────┼────────────────┤\n",
              "│     1 │ Person_1 │    26 │ City_A  │ 1708044362.4206784 │ zypbBUP+3rOh9A │\n",
              "│     2 │ Person_2 │    27 │ City_A  │ 1708044362.4206784 │ FTn2GutzMJc+MQ │\n",
              "│     3 │ Person_3 │    28 │ City_A  │ 1708044362.4206784 │ I9pQtUyI4N3hFA │\n",
              "│     4 │ Person_4 │    29 │ City_A  │ 1708044362.4206784 │ yyX5AySWW83eKw │\n",
              "│     5 │ Person_5 │    30 │ City_A  │ 1708044362.4206784 │ XqlVrfKGo4hFew │\n",
              "└───────┴──────────┴───────┴─────────┴────────────────────┴────────────────┘"
            ]
          },
          "execution_count": 15,
          "metadata": {},
          "output_type": "execute_result"
        }
      ],
      "source": [
        "conn.sql('SELECT * FROM people')"
      ]
    },
    {
      "cell_type": "code",
      "execution_count": 16,
      "metadata": {
        "colab": {
          "base_uri": "https://localhost:8080/"
        },
        "id": "GXMqDeZwV1FA",
        "outputId": "ea404bb8-bcd9-4fae-9cc4-e859eb826b80"
      },
      "outputs": [
        {
          "data": {
            "text/plain": [
              "┌──────────┐\n",
              "│ sum(age) │\n",
              "│  int128  │\n",
              "├──────────┤\n",
              "│      140 │\n",
              "└──────────┘"
            ]
          },
          "execution_count": 16,
          "metadata": {},
          "output_type": "execute_result"
        }
      ],
      "source": [
        "conn.sql('SELECT SUM(age) FROM people')"
      ]
    },
    {
      "cell_type": "markdown",
      "metadata": {
        "id": "za86UULFVmZ6"
      },
      "source": [
        "### add and update"
      ]
    },
    {
      "cell_type": "code",
      "execution_count": 17,
      "metadata": {
        "colab": {
          "base_uri": "https://localhost:8080/"
        },
        "id": "ZB9Khj7fVmHU",
        "outputId": "1c15b25a-6cc7-4905-a73e-5a715c930cc2"
      },
      "outputs": [
        {
          "name": "stdout",
          "output_type": "stream",
          "text": [
            "Pipeline dlt_colab_kernel_launcher load step completed in 0.44 seconds\n",
            "1 load package(s) were loaded to destination duckdb and into dataset data_merge\n",
            "The duckdb destination used duckdb:////content/dlt_colab_kernel_launcher.duckdb location to store data\n",
            "Load package 1708044401.162202 is LOADED and contains no failed jobs\n"
          ]
        },
        {
          "data": {
            "text/plain": [
              "┌───────┬──────────┬───────┬─────────┬────────────────────┬────────────────┬────────────┐\n",
              "│  id   │   name   │  age  │  city   │    _dlt_load_id    │    _dlt_id     │ occupation │\n",
              "│ int64 │ varchar  │ int64 │ varchar │      varchar       │    varchar     │  varchar   │\n",
              "├───────┼──────────┼───────┼─────────┼────────────────────┼────────────────┼────────────┤\n",
              "│     1 │ Person_1 │    26 │ City_A  │ 1708044362.4206784 │ zypbBUP+3rOh9A │ NULL       │\n",
              "│     2 │ Person_2 │    27 │ City_A  │ 1708044362.4206784 │ FTn2GutzMJc+MQ │ NULL       │\n",
              "│     5 │ Person_5 │    35 │ City_B  │ 1708044401.162202  │ eObA+MV6YcACQw │ Job_5      │\n",
              "│     7 │ Person_7 │    37 │ City_B  │ 1708044401.162202  │ QdvhF2Q3q38Mlg │ Job_7      │\n",
              "│     4 │ Person_4 │    34 │ City_B  │ 1708044401.162202  │ bZRTUx1/aLu+Kg │ Job_4      │\n",
              "│     8 │ Person_8 │    38 │ City_B  │ 1708044401.162202  │ glzpTXB/ISA47Q │ Job_8      │\n",
              "│     3 │ Person_3 │    33 │ City_B  │ 1708044401.162202  │ AeckgGoNKg1NgA │ Job_3      │\n",
              "│     6 │ Person_6 │    36 │ City_B  │ 1708044401.162202  │ Vcr+HGL+XyNkNA │ Job_6      │\n",
              "└───────┴──────────┴───────┴─────────┴────────────────────┴────────────────┴────────────┘"
            ]
          },
          "execution_count": 17,
          "metadata": {},
          "output_type": "execute_result"
        }
      ],
      "source": [
        "info = generators_pipeline_merge.run(people_2,\n",
        "\t\t\t\t\t\t\t\t\t\ttable_name=\"people\",\n",
        "\t\t\t\t\t\t\t\t\t\twrite_disposition=\"merge\",\n",
        "                    primary_key=\"id\"\n",
        "                    )\n",
        "print(info)\n",
        "conn.sql('SELECT * FROM people')"
      ]
    },
    {
      "cell_type": "code",
      "execution_count": 18,
      "metadata": {
        "colab": {
          "base_uri": "https://localhost:8080/"
        },
        "id": "SMVNZapfWCAk",
        "outputId": "45d20eda-c90c-424a-e727-652434bf8193"
      },
      "outputs": [
        {
          "data": {
            "text/plain": [
              "┌──────────┐\n",
              "│ sum(age) │\n",
              "│  int128  │\n",
              "├──────────┤\n",
              "│      266 │\n",
              "└──────────┘"
            ]
          },
          "execution_count": 18,
          "metadata": {},
          "output_type": "execute_result"
        }
      ],
      "source": [
        "conn.sql('SELECT SUM(age) FROM people')"
      ]
    }
  ],
  "metadata": {
    "colab": {
      "provenance": [],
      "toc_visible": true
    },
    "kernelspec": {
      "display_name": "Python 3",
      "name": "python3"
    },
    "language_info": {
      "name": "python"
    }
  },
  "nbformat": 4,
  "nbformat_minor": 0
}
